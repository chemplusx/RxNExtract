{
  "nbformat": 4,
  "nbformat_minor": 0,
  "metadata": {
    "colab": {
      "provenance": [],
      "gpuType": "T4",
      "include_colab_link": true
    },
    "kernelspec": {
      "name": "python3",
      "display_name": "Python 3"
    },
    "language_info": {
      "name": "python"
    },
    "accelerator": "GPU"
  },
  "cells": [
    {
      "cell_type": "markdown",
      "metadata": {
        "id": "view-in-github",
        "colab_type": "text"
      },
      "source": [
        "<a href=\"https://colab.research.google.com/github/chemplusx/RxNExtract/blob/main/examples/quickstart.ipynb\" target=\"_parent\"><img src=\"https://colab.research.google.com/assets/colab-badge.svg\" alt=\"Open In Colab\"/></a>"
      ]
    },
    {
      "cell_type": "markdown",
      "source": [
        "# 🧪 RxNExtract Quick Start Guide\n",
        "\n",
        "Welcome to **RxNExtract** - a professional-grade system for extracting chemical reaction information from procedure texts using fine-tuned LLMs with dynamic prompting and self-grounding.\n",
        "\n",
        "[![GitHub](https://img.shields.io/badge/GitHub-RxNExtract-blue?logo=github)](https://github.com/chemplusx/RxNExtract)\n",
        "[![PyPI](https://img.shields.io/badge/PyPI-rxnextract-orange?logo=pypi)](https://pypi.org/project/rxnextract/)\n",
        "[![HuggingFace](https://img.shields.io/badge/%F0%9F%A4%97%20HuggingFace-Models-yellow)](https://huggingface.co/chemplusx/rxnextract-complete)\n",
        "\n",
        "## 🎯 What You'll Learn\n",
        "- Install and set up RxNExtract in Google Colab\n",
        "- Extract chemical reaction information from text\n",
        "- Analyze extraction results and confidence scores\n",
        "- Process multiple procedures in batch\n",
        "- Visualize extracted data\n",
        "\n",
        "## 🚀 Key Features\n",
        "- **122.6% improvement** in Complete Reaction Accuracy over baseline\n",
        "- **47-55% error reduction** across all major categories\n",
        "- **Statistical significance**: McNemar's χ² = 134.67 (p < 0.001)\n",
        "- Support for complex multi-step reactions\n",
        "- Confidence scoring and uncertainty quantification"
      ],
      "metadata": {
        "id": "intro_section"
      }
    },
    {
      "cell_type": "markdown",
      "source": [
        "## 📦 Installation\n",
        "\n",
        "Let's start by installing RxNExtract and its dependencies."
      ],
      "metadata": {
        "id": "installation_section"
      }
    },
    {
      "cell_type": "code",
      "source": [
        "# Install RxNExtract with GPU support\n",
        "!pip install rxnextract[gpu] -q\n",
        "\n",
        "# Install additional dependencies for visualization\n",
        "!pip install matplotlib seaborn pandas plotly -q\n",
        "\n",
        "print(\"✅ Installation complete!\")"
      ],
      "metadata": {
        "id": "install_rxnextract"
      },
      "execution_count": null,
      "outputs": []
    },
    {
      "cell_type": "code",
      "source": [
        "# Import required libraries\n",
        "import json\n",
        "import pandas as pd\n",
        "import matplotlib.pyplot as plt\n",
        "import seaborn as sns\n",
        "from IPython.display import display, HTML, JSON\n",
        "import warnings\n",
        "warnings.filterwarnings('ignore')\n",
        "\n",
        "# Set up plotting style\n",
        "plt.style.use('default')\n",
        "sns.set_palette(\"husl\")\n",
        "\n",
        "print(\"📚 Libraries imported successfully!\")"
      ],
      "metadata": {
        "id": "import_libraries"
      },
      "execution_count": null,
      "outputs": []
    },
    {
      "cell_type": "markdown",
      "source": [
        "## 🤖 Initialize RxNExtract\n",
        "\n",
        "Now let's initialize the extractor with the pre-trained model from HuggingFace."
      ],
      "metadata": {
        "id": "init_section"
      }
    },
    {
      "cell_type": "code",
      "source": [
        "from chemistry_llm import ChemistryReactionExtractor\n",
        "\n",
        "# Check GPU availability\n",
        "import torch\n",
        "print(f\"CUDA Available: {torch.cuda.is_available()}\")\n",
        "print(f\"Device: {torch.cuda.get_device_name(0) if torch.cuda.is_available() else 'CPU'}\")\n",
        "\n",
        "# Initialize the extractor with the complete framework model\n",
        "print(\"\\n🔄 Loading RxNExtract model (this may take a few minutes)...\")\n",
        "\n",
        "extractor = ChemistryReactionExtractor.from_pretrained(\n",
        "    \"chemplusx/rxnextract-complete\",\n",
        "    device=\"cuda\" if torch.cuda.is_available() else \"cpu\",\n",
        "    load_in_4bit=True,\n",
        "    temperature=0.1,\n",
        "    max_length=512\n",
        ")\n",
        "\n",
        "print(\"✅ RxNExtract loaded successfully!\")"
      ],
      "metadata": {
        "id": "initialize_extractor"
      },
      "execution_count": null,
      "outputs": []
    },
    {
      "cell_type": "markdown",
      "source": [
        "## 🧪 Basic Extraction Example\n",
        "\n",
        "Let's start with a simple chemical procedure extraction."
      ],
      "metadata": {
        "id": "basic_example_section"
      }
    },
    {
      "cell_type": "code",
      "source": [
        "# Example chemical procedure\n",
        "procedure = \"\"\"\n",
        "Add 2.5 g of benzoic acid to 50 mL of ethanol in a round-bottom flask.\n",
        "Heat the mixture to reflux for 4 hours while stirring.\n",
        "Cool the solution to room temperature and filter the precipitate.\n",
        "Wash the solid with cold ethanol and dry to obtain 2.1 g of product (84% yield).\n",
        "\"\"\"\n",
        "\n",
        "print(\"🔬 Analyzing procedure...\")\n",
        "print(f\"Input: {procedure.strip()}\")\n",
        "print(\"\\n\" + \"=\"*80)\n",
        "\n",
        "# Extract reaction information\n",
        "results = extractor.analyze_procedure(procedure, return_raw=False)\n",
        "\n",
        "print(f\"✅ Extraction completed in {results['processing_time']:.1f}s\")\n",
        "print(f\"🎯 Confidence: {results['confidence']:.2%}\")"
      ],
      "metadata": {
        "id": "basic_extraction"
      },
      "execution_count": null,
      "outputs": []
    },
    {
      "cell_type": "code",
      "source": [
        "# Display extracted data in a structured format\n",
        "def display_extraction_results(results):\n",
        "    \"\"\"Display extraction results with rich formatting\"\"\"\n",
        "    data = results['extracted_data']\n",
        "    \n",
        "    print(\"📊 EXTRACTION RESULTS\")\n",
        "    print(\"=\"*50)\n",
        "    \n",
        "    # Reactants\n",
        "    if data.get('reactants'):\n",
        "        print(\"\\n🔵 REACTANTS:\")\n",
        "        for i, reactant in enumerate(data['reactants'], 1):\n",
        "            print(f\"  {i}. {reactant.get('name', 'Unknown')}\")\n",
        "            if reactant.get('amount'):\n",
        "                print(f\"     Amount: {reactant['amount']}\")\n",
        "            if reactant.get('role'):\n",
        "                print(f\"     Role: {reactant['role']}\")\n",
        "    \n",
        "    # Reagents\n",
        "    if data.get('reagents'):\n",
        "        print(\"\\n🟡 REAGENTS:\")\n",
        "        for i, reagent in enumerate(data['reagents'], 1):\n",
        "            print(f\"  {i}. {reagent.get('name', 'Unknown')}\")\n",
        "            if reagent.get('amount'):\n",
        "                print(f\"     Amount: {reagent['amount']}\")\n",
        "    \n",
        "    # Solvents\n",
        "    if data.get('solvents'):\n",
        "        print(\"\\n🔵 SOLVENTS:\")\n",
        "        for i, solvent in enumerate(data['solvents'], 1):\n",
        "            print(f\"  {i}. {solvent.get('name', 'Unknown')}\")\n",
        "            if solvent.get('amount'):\n",
        "                print(f\"     Amount: {solvent['amount']}\")\n",
        "    \n",
        "    # Products\n",
        "    if data.get('products'):\n",
        "        print(\"\\n🟢 PRODUCTS:\")\n",
        "        for i, product in enumerate(data['products'], 1):\n",
        "            print(f\"  {i}. {product.get('name', 'Unknown')}\")\n",
        "            if product.get('amount'):\n",
        "                print(f\"     Amount: {product['amount']}\")\n",
        "            if product.get('yield'):\n",
        "                print(f\"     Yield: {product['yield']}\")\n",
        "    \n",
        "    # Conditions\n",
        "    if data.get('conditions'):\n",
        "        print(\"\\n🌡️  REACTION CONDITIONS:\")\n",
        "        conditions = data['conditions']\n",
        "        if conditions.get('temperature'):\n",
        "            print(f\"     Temperature: {conditions['temperature']}\")\n",
        "        if conditions.get('time'):\n",
        "            print(f\"     Time: {conditions['time']}\")\n",
        "        if conditions.get('atmosphere'):\n",
        "            print(f\"     Atmosphere: {conditions['atmosphere']}\")\n",
        "        if conditions.get('pressure'):\n",
        "            print(f\"     Pressure: {conditions['pressure']}\")\n",
        "    \n",
        "    # Workup steps\n",
        "    if data.get('workup'):\n",
        "        print(\"\\n⚗️  WORKUP STEPS:\")\n",
        "        for i, step in enumerate(data['workup'], 1):\n",
        "            print(f\"  {i}. {step}\")\n",
        "\n",
        "# Display the results\n",
        "display_extraction_results(results)"
      ],
      "metadata": {
        "id": "display_results"
      },
      "execution_count": null,
      "outputs": []
    },
    {
      "cell_type": "code",
      "source": [
        "# Interactive demo function\n",
        "def interactive_demo():\n",
        "    \"\"\"Interactive demo for custom procedure input\"\"\"\n",
        "    \n",
        "    print(\"🧪 INTERACTIVE RxNExtract DEMO\")\n",
        "    print(\"=\"*50)\n",
        "    print(\"Enter your own chemical procedure below:\")\n",
        "    print(\"(Press Ctrl+Enter to run the cell after entering your procedure)\")\n",
        "    print()\n",
        "    \n",
        "    # Example procedures for users to try\n",
        "    example_procedures = [\n",
        "        \"Add 1.0 g of sodium chloride to 10 mL of water and stir until dissolved.\",\n",
        "        \"Heat 5 mL of acetic acid with 3 g of salicylic acid at 140°C for 30 minutes.\",\n",
        "        \"Combine benzaldehyde (2 mL) with aniline (1.5 mL) in ethanol and reflux for 2 hours.\",\n",
        "        \"Dissolve 2.5 g of copper sulfate in 50 mL of water, then add 1.0 g of zinc powder.\"\n",
        "    ]\n",
        "    \n",
        "    print(\"💡 Try one of these example procedures:\")\n",
        "    for i, example in enumerate(example_procedures, 1):\n",
        "        print(f\"{i}. {example}\")\n",
        "    print()\n",
        "\n",
        "interactive_demo()\n",
        "\n",
        "# User input cell\n",
        "user_procedure = \"\"\"\n",
        "Add 3.0 g of benzoin to 25 mL of ethanol in a round-bottom flask. \n",
        "Add 0.5 g of sodium borohydride portionwise while stirring at room temperature.\n",
        "Stir for 2 hours, then add 20 mL of water and extract with ethyl acetate.\n",
        "Dry the organic layer over MgSO4 and concentrate to give 2.1 g of benzyl alcohol (72% yield).\n",
        "\"\"\"\n",
        "\n",
        "print(\"📝 Your procedure:\")\n",
        "print(user_procedure.strip())\n",
        "print(\"\\n🔬 Analyzing your procedure...\")"
      ],
      "metadata": {
        "id": "interactive_demo"
      },
      "execution_count": null,
      "outputs": []
    },
    {
      "cell_type": "code",
      "source": [
        "# Process user input\n",
        "if user_procedure.strip():\n",
        "    print(\"🔄 Analyzing your procedure...\")\n",
        "    print(\"=\"*60)\n",
        "    \n",
        "    # Analyze user procedure\n",
        "    user_result = extractor.analyze_procedure(user_procedure)\n",
        "    \n",
        "    # Display results\n",
        "    print(f\"✅ Analysis completed in {user_result['processing_time']:.1f}s\")\n",
        "    print(f\"🎯 Confidence: {user_result['confidence']:.1%}\")\n",
        "    print()\n",
        "    \n",
        "    # Show detailed results\n",
        "    display_extraction_results(user_result)\n",
        "    \n",
        "else:\n",
        "    print(\"⚠️  Please enter a chemical procedure in the cell above!\")"
      ],
      "metadata": {
        "id": "process_user_input"
      },
      "execution_count": null,
      "outputs": []
    },
    {
      "cell_type": "markdown",
      "source": [
        "## 📊 Summary & Next Steps\n",
        "\n",
        "Congratulations! You've successfully explored RxNExtract's capabilities."
      ],
      "metadata": {
        "id": "summary_section"
      }
    },
    {
      "cell_type": "code",
      "source": [
        "# Final summary\n",
        "print(\"🎉 RXNEXTRACT QUICK START SUMMARY\")\n",
        "print(\"=\" * 50)\n",
        "print(\"\\n✅ WHAT YOU'VE ACCOMPLISHED:\")\n",
        "print(\"   • Installed and set up RxNExtract in Google Colab\")\n",
        "print(\"   • Analyzed chemical procedures with high accuracy\")\n",
        "print(\"   • Explored interactive capabilities\")\n",
        "print(\"   • Tested with custom procedures\")\n",
        "\n",
        "print(\"\\n🚀 PERFORMANCE HIGHLIGHTS:\")\n",
        "print(\"   • 122.6% improvement in Complete Reaction Accuracy\")\n",
        "print(\"   • 47-55% error reduction across major categories\")\n",
        "print(\"   • Statistical significance: p < 0.001\")\n",
        "print(\"   • Robust handling of complex procedures\")\n",
        "\n",
        "print(\"\\n📖 NEXT STEPS:\")\n",
        "print(\"   1. 🔬 Try RxNExtract with your own chemical procedures\")\n",
        "print(\"   2. 📊 Explore the comprehensive analysis framework\")\n",
        "print(\"   3. 🏗️  Integrate RxNExtract into your research workflow\")\n",
        "print(\"   4. 📚 Read the full documentation and research paper\")\n",
        "print(\"   5. 🤝 Join the community and contribute\")\n",
        "\n",
        "print(\"\\n🔗 USEFUL LINKS:\")\n",
        "print(\"   • GitHub: https://github.com/chemplusx/RxNExtract\")\n",
        "print(\"   • PyPI: https://pypi.org/project/rxnextract/\")\n",
        "print(\"   • HuggingFace: https://huggingface.co/chemplusx/rxnextract-complete\")\n",
        "print(\"   • Documentation: https://docs.rxnextract.org\")\n",
        "\n",
        "print(\"\\n🎯 Thank you for trying RxNExtract!\")\n",
        "print(\"   We hope this tool accelerates your chemical research.\")\n",
        "print(\"   Please consider starring ⭐ our GitHub repository!\")"
      ],
      "metadata": {
        "id": "final_summary"
      },
      "execution_count": null,
      "outputs": []
    }
  ]
}
