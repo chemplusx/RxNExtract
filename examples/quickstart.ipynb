{
  "nbformat": 4,
  "nbformat_minor": 0,
  "metadata": {
    "colab": {
      "provenance": [],
      "gpuType": "T4",
      "include_colab_link": true
    },
    "kernelspec": {
      "name": "python3",
      "display_name": "Python 3"
    },
    "language_info": {
      "name": "python"
    },
    "accelerator": "GPU"
  },
  "cells": [
    {
      "cell_type": "markdown",
      "metadata": {
        "id": "view-in-github",
        "colab_type": "text"
      },
      "source": [
        "<a href=\"https://colab.research.google.com/github/chemplusx/RxNExtract/blob/main/examples/quickstart.ipynb\" target=\"_parent\"><img src=\"https://colab.research.google.com/assets/colab-badge.svg\" alt=\"Open In Colab\"/></a>"
      ]
    },
    {
      "cell_type": "markdown",
      "source": [
        "# 🧪 RxNExtract Quick Start Guide\n",
        "\n",
        "Welcome to **RxNExtract** - a professional-grade system for extracting chemical reaction information from procedure texts using fine-tuned LLMs with dynamic prompting and self-grounding.\n",
        "\n",
        "[![GitHub](https://img.shields.io/badge/GitHub-RxNExtract-blue?logo=github)](https://github.com/chemplusx/RxNExtract)\n",
        "[![PyPI](https://img.shields.io/badge/PyPI-rxnextract-orange?logo=pypi)](https://pypi.org/project/rxnextract/)\n",
        "[![HuggingFace](https://img.shields.io/badge/%F0%9F%A4%97%20HuggingFace-Models-yellow)](https://huggingface.co/chemplusx/rxnextract-complete)\n",
        "\n",
        "## 🎯 What You'll Learn\n",
        "- Install and set up RxNExtract in Google Colab\n",
        "- Extract chemical reaction information from text\n",
        "- Analyze extraction results and confidence scores\n",
        "- Process multiple procedures in batch\n",
        "- Visualize extracted data\n",
        "\n",
        "## 🚀 Key Features\n",
        "- **122.6% improvement** in Complete Reaction Accuracy over baseline\n",
        "- **47-55% error reduction** across all major categories\n",
        "- **Statistical significance**: McNemar's χ² = 134.67 (p < 0.001)\n",
        "- Support for complex multi-step reactions\n",
        "- Confidence scoring and uncertainty quantification"
      ],
      "metadata": {
        "id": "intro_section"
      }
    },
    {
      "cell_type": "markdown",
      "source": [
        "## 📦 Installation\n",
        "\n",
        "Let's start by installing RxNExtract and its dependencies."
      ],
      "metadata": {
        "id": "installation_section"
      }
    },
    {
      "cell_type": "code",
      "source": [
        "# Install RxNExtract with GPU support\n",
        "!pip install rxnextract[gpu] -q\n",
        "\n",
        "# Install additional dependencies for visualization\n",
        "!pip install matplotlib seaborn pandas plotly -q\n",
        "\n",
        "print(\"✅ Installation complete!\")"
      ],
      "metadata": {
        "id": "install_rxnextract"
      },
      "execution_count": null,
      "outputs": []
    }
  ]
}
    {
      "cell_type": "code",
      "source": [
        "# Import required libraries\n",
        "import json\n",
        "import pandas as pd\n",
        "import matplotlib.pyplot as plt\n",
        "import seaborn as sns\n",
        "from IPython.display import display, HTML, JSON\n",
        "import warnings\n",
        "warnings.filterwarnings('ignore')\n",
        "\n",
        "# Set up plotting style\n",
        "plt.style.use('default')\n",
        "sns.set_palette(\"husl\")\n",
        "\n",
        "print(\"📚 Libraries imported successfully!\")"
      ],
      "metadata": {
        "id": "import_libraries"
      },
      "execution_count": null,
      "outputs": []
    },
    {
      "cell_type": "markdown",
      "source": [
        "## 🤖 Initialize RxNExtract\n",
        "\n",
        "Now let's initialize the extractor with the pre-trained model from HuggingFace."
      ],
      "metadata": {
        "id": "init_section"
      }
    },
    {
      "cell_type": "code",
      "source": [
        "from chemistry_llm import ChemistryReactionExtractor\n",
        "\n",
        "# Check GPU availability\n",
        "import torch\n",
        "print(f\"CUDA Available: {torch.cuda.is_available()}\")\n",
        "print(f\"Device: {torch.cuda.get_device_name(0) if torch.cuda.is_available() else 'CPU'}\")\n",
        "\n",
        "# Initialize the extractor with the complete framework model\n",
        "print(\"\\n🔄 Loading RxNExtract model (this may take a few minutes)...\")\n",
        "\n",
        "extractor = ChemistryReactionExtractor.from_pretrained(\n",
        "    \"chemplusx/rxnextract-complete\",\n",
        "    device=\"cuda\" if torch.cuda.is_available() else \"cpu\",\n",
        "    load_in_4bit=True,  # Memory optimization\n",
        "    temperature=0.1,\n",
        "    max_length=512\n",
        ")\n",
        "\n",
        "print(\"✅ RxNExtract loaded successfully!\")"
      ],
      "metadata": {
        "id": "initialize_extractor"
      },
      "execution_count": null,
      "outputs": []
    },
    {
      "cell_type": "markdown",
      "source": [
        "## 🧪 Basic Extraction Example\n",
        "\n",
        "Let's start with a simple chemical procedure extraction."
      ],
      "metadata": {
        "id": "basic_example_section"
      }
    },
    {
      "cell_type": "code",
      "source": [
        "# Example chemical procedure\n",
        "procedure = \"\"\"\n",
        "Add 2.5 g of benzoic acid to 50 mL of ethanol in a round-bottom flask.\n",
        "Heat the mixture to reflux for 4 hours while stirring.\n",
        "Cool the solution to room temperature and filter the precipitate.\n",
        "Wash the solid with cold ethanol and dry to obtain 2.1 g of product (84% yield).\n",
        "\"\"\"\n",
        "\n",
        "print(\"🔬 Analyzing procedure...\")\n",
        "print(f\"Input: {procedure.strip()}\")\n",
        "print(\"\\n\" + \"=\"*80)\n",
        "\n",
        "# Extract reaction information\n",
        "results = extractor.analyze_procedure(procedure, return_raw=False)\n",
        "\n",
        "print(f\"✅ Extraction completed in {results['processing_time']:.1f}s\")\n",
        "print(f\"🎯 Confidence: {results['confidence']:.2%}\")"
      ],
      "metadata": {
        "id": "basic_extraction"
      },
      "execution_count": null,
      "outputs": []
    },
    {
      "cell_type": "code",
      "source": [
        "# Display extracted data in a structured format\n",
        "def display_extraction_results(results):\n",
        "    \"\"\"Display extraction results with rich formatting\"\"\"\n",
        "    data = results['extracted_data']\n",
        "    \n",
        "    print(\"📊 EXTRACTION RESULTS\")\n",
        "    print(\"=\"*50)\n",
        "    \n",
        "    # Reactants\n",
        "    if data.get('reactants'):\n",
        "        print(\"\\n🔵 REACTANTS:\")\n",
        "        for i, reactant in enumerate(data['reactants'], 1):\n",
        "            print(f\"  {i}. {reactant.get('name', 'Unknown')}\")\n",
        "            if reactant.get('amount'):\n",
        "                print(f\"     Amount: {reactant['amount']}\")\n",
        "            if reactant.get('role'):\n",
        "                print(f\"     Role: {reactant['role']}\")\n",
        "    \n",
        "    # Reagents\n",
        "    if data.get('reagents'):\n",
        "        print(\"\\n🟡 REAGENTS:\")\n",
        "        for i, reagent in enumerate(data['reagents'], 1):\n",
        "            print(f\"  {i}. {reagent.get('name', 'Unknown')}\")\n",
        "            if reagent.get('amount'):\n",
        "                print(f\"     Amount: {reagent['amount']}\")\n",
        "    \n",
        "    # Solvents\n",
        "    if data.get('solvents'):\n",
        "        print(\"\\n🔵 SOLVENTS:\")\n",
        "        for i, solvent in enumerate(data['solvents'], 1):\n",
        "            print(f\"  {i}. {solvent.get('name', 'Unknown')}\")\n",
        "            if solvent.get('amount'):\n",
        "                print(f\"     Amount: {solvent['amount']}\")\n",
        "    \n",
        "    # Products\n",
        "    if data.get('products'):\n",
        "        print(\"\\n🟢 PRODUCTS:\")\n",
        "        for i, product in enumerate(data['products'], 1):\n",
        "            print(f\"  {i}. {product.get('name', 'Unknown')}\")\n",
        "            if product.get('amount'):\n",
        "                print(f\"     Amount: {product['amount']}\")\n",
        "            if product.get('yield'):\n",
        "                print(f\"     Yield: {product['yield']}\")\n",
        "    \n",
        "    # Conditions\n",
        "    if data.get('conditions'):\n",
        "        print(\"\\n🌡️  REACTION CONDITIONS:\")\n",
        "        conditions = data['conditions']\n",
        "        if conditions.get('temperature'):\n",
        "            print(f\"     Temperature: {conditions['temperature']}\")\n",
        "        if conditions.get('time'):\n",
        "            print(f\"     Time: {conditions['time']}\")\n",
        "        if conditions.get('atmosphere'):\n",
        "            print(f\"     Atmosphere: {conditions['atmosphere']}\")\n",
        "        if conditions.get('pressure'):\n",
        "            print(f\"     Pressure: {conditions['pressure']}\")\n",
        "    \n",
        "    # Workup steps\n",
        "    if data.get('workup'):\n",
        "        print(\"\\n⚗️  WORKUP STEPS:\")\n",
        "        for i, step in enumerate(data['workup'], 1):\n",
        "            print(f\"  {i}. {step}\")\n",
        "\n",
        "# Display the results\n",
        "display_extraction_results(results)"
      ],
      "metadata": {
        "id": "display_results"
      },
      "execution_count": null,
      "outputs": []
    },
    {
      "cell_type": "markdown",
      "source": [
        "## 📊 Data Visualization\n",
        "\n",
        "Let's create some visualizations of the extracted data."
      ],
      "metadata": {
        "id": "visualization_section"
      }
    },
    {
      "cell_type": "code",
      "source": [
        "# Create a summary visualization\n",
        "def visualize_extraction_summary(results):\n",
        "    \"\"\"Create a summary visualization of extraction results\"\"\"\n",
        "    data = results['extracted_data']\n",
        "    \n",
        "    # Count different types of extracted entities\n",
        "    entity_counts = {\n",
        "        'Reactants': len(data.get('reactants', [])),\n",
        "        'Reagents': len(data.get('reagents', [])),\n",
        "        'Solvents': len(data.get('solvents', [])),\n",
        "        'Products': len(data.get('products', [])),\n",
        "        'Conditions': len([v for v in data.get('conditions', {}).values() if v]),\n",
        "        'Workup Steps': len(data.get('workup', []))\n",
        "    }\n",
        "    \n",
        "    # Remove zero counts for cleaner visualization\n",
        "    entity_counts = {k: v for k, v in entity_counts.items() if v > 0}\n",
        "    \n",
        "    # Create visualization\n",
        "    fig, (ax1, ax2) = plt.subplots(1, 2, figsize=(15, 6))\n",
        "    \n",
        "    # Bar chart of entity counts\n",
        "    categories = list(entity_counts.keys())\n",
        "    counts = list(entity_counts.values())\n",
        "    colors = sns.color_palette(\"husl\", len(categories))\n",
        "    \n",
        "    bars = ax1.bar(categories, counts, color=colors)\n",
        "    ax1.set_title('Extracted Chemical Entities', fontsize=14, fontweight='bold')\n",
        "    ax1.set_ylabel('Count', fontsize=12)\n",
        "    ax1.tick_params(axis='x', rotation=45)\n",
        "    \n",
        "    # Add value labels on bars\n",
        "    for bar, count in zip(bars, counts):\n",
        "        height = bar.get_height()\n",
        "        ax1.text(bar.get_x() + bar.get_width()/2., height,\n",
        "                f'{count}', ha='center', va='bottom', fontweight='bold')\n",
        "    \n",
        "    # Pie chart of entity distribution\n",
        "    ax2.pie(counts, labels=categories, colors=colors, autopct='%1.1f%%',\n",
        "            startangle=90, textprops={'fontsize': 10})\n",
        "    ax2.set_title('Entity Distribution', fontsize=14, fontweight='bold')\n",
        "    \n",
        "    # Add confidence score\n",
        "    confidence = results.get('confidence', 0)\n",
        "    fig.suptitle(f'RxNExtract Results Overview (Confidence: {confidence:.1%})', \n",
        "                 fontsize=16, fontweight='bold')\n",
        "    \n",
        "    plt.tight_layout()\n",
        "    plt.show()\n",
        "    \n",
        "    return entity_counts\n",
        "\n",
        "# Create visualization\n",
        "entity_summary = visualize_extraction_summary(results)"
      ],
      "metadata": {
        "id": "create_visualization"
      },
      "execution_count": null,
      "outputs": []
    },
    {
      "cell_type": "markdown",
      "source": [
        "## 🔬 Multiple Procedures Analysis\n",
        "\n",
        "Let's analyze multiple chemical procedures to see how RxNExtract performs across different types of reactions."
      ],
      "metadata": {
        "id": "multi_procedures_section"
      }
    },
    {
      "cell_type": "code",
      "source": [
        "# Define multiple chemical procedures\n",
        "sample_procedures = [\n",
        "    {\n",
        "        \"id\": \"proc_001\",\n",
        "        \"type\": \"Organic Synthesis\",\n",
        "        \"procedure\": \"\"\"\n",
        "        Dissolve 10.0 g of 4-nitroaniline in 200 mL of concentrated HCl.\n",
        "        Add 15.0 g of tin powder portionwise while maintaining temperature below 10°C.\n",
        "        Stir for 2 hours at room temperature, then heat to 60°C for 1 hour.\n",
        "        Neutralize with NaOH solution and extract with ethyl acetate (3 × 50 mL).\n",
        "        Dry over MgSO4 and concentrate to give 7.2 g of product (78% yield).\n",
        "        \"\"\"\n",
        "    },\n",
        "    {\n",
        "        \"id\": \"proc_002\", \n",
        "        \"type\": \"Catalytic Reaction\",\n",
        "        \"procedure\": \"\"\"\n",
        "        In a round-bottom flask, combine 5.0 mmol of styrene, 6.0 mmol of phenylboronic acid,\n",
        "        and 0.1 mmol of Pd(PPh3)4 catalyst in 20 mL of DMF.\n",
        "        Add 15.0 mmol of K2CO3 and heat to 100°C under nitrogen atmosphere.\n",
        "        Stir for 12 hours, then cool and filter through celite.\n",
        "        Purify by column chromatography to obtain 0.85 g of biphenyl derivative (92% yield).\n",
        "        \"\"\"\n",
        "    },\n",
        "    {\n",
        "        \"id\": \"proc_003\",\n",
        "        \"type\": \"Inorganic Synthesis\", \n",
        "        \"procedure\": \"\"\"\n",
        "        Mix 2.4 g of CuSO4·5H2O with 1.8 g of Na2CO3 in 100 mL of distilled water.\n",
        "        Heat the mixture to 80°C and stir for 30 minutes until precipitation is complete.\n",
        "        Filter the blue precipitate and wash with distilled water (3 × 20 mL).\n",
        "        Dry at 110°C for 4 hours to yield 1.2 g of basic copper carbonate.\n",
        "        \"\"\"\n",
        "    },\n",
        "    {\n",
        "        \"id\": \"proc_004\",\n",
        "        \"type\": \"Multi-step Synthesis\",\n",
        "        \"procedure\": \"\"\"\n",
        "        Step 1: React 20 mL of benzyl chloride with 25 mL of ammonia in ethanol (50 mL)\n",
        "        at reflux for 6 hours to form benzylamine.\n",
        "        Step 2: Treat the crude benzylamine with 15 mL of acetic anhydride\n",
        "        in pyridine (30 mL) at room temperature overnight.\n",
        "        Step 3: Work up by washing with NaHCO3 solution and extract with dichloromethane.\n",
        "        Final yield: 18.5 g of N-benzylacetamide (89% overall yield).\n",
        "        \"\"\"\n",
        "    }\n",
        "]\n",
        "\n",
        "print(f\"📋 Analyzing {len(sample_procedures)} different procedures...\")\n",
        "print(\"This may take a few minutes...\\n\")"
      ],
      "metadata": {
        "id": "define_procedures"
      },
      "execution_count": null,
      "outputs": []
    },
    {
      "cell_type": "code",
      "source": [
        "# Process all procedures\n",
        "batch_results = []\n",
        "\n",
        "for i, proc_data in enumerate(sample_procedures):\n",
        "    print(f\"🔬 Processing {proc_data['type']} ({i+1}/{len(sample_procedures)})...\")\n",
        "    \n",
        "    # Extract reaction information\n",
        "    result = extractor.analyze_procedure(proc_data['procedure'])\n",
        "    \n",
        "    # Add metadata\n",
        "    result['procedure_id'] = proc_data['id']\n",
        "    result['procedure_type'] = proc_data['type']\n",
        "    result['original_text'] = proc_data['procedure'].strip()\n",
        "    \n",
        "    batch_results.append(result)\n",
        "    \n",
        "    print(f\"   ✅ Completed - Confidence: {result['confidence']:.1%}\")\n",
        "    print(f\"   📊 Found: {len(result['extracted_data'].get('reactants', []))} reactants, \"\n",
        "          f\"{len(result['extracted_data'].get('products', []))} products\")\n",
        "    print()\n",
        "\n",
        "print(f\"🎉 Batch processing complete! Analyzed {len(batch_results)} procedures.\")"
      ],
      "metadata": {
        "id": "process_batch"
      },
      "execution_count": null,
      "outputs": []
    },
    {
      "cell_type": "code",
      "source": [
        "# Create comprehensive analysis of batch results\n",
        "def analyze_batch_results(batch_results):\n",
        "    \"\"\"Analyze and visualize batch processing results\"\"\"\n",
        "    \n",
        "    # Extract summary statistics\n",
        "    summary_data = []\n",
        "    \n",
        "    for result in batch_results:\n",
        "        data = result['extracted_data']\n",
        "        summary_data.append({\n",
        "            'ID': result['procedure_id'],\n",
        "            'Type': result['procedure_type'],\n",
        "            'Confidence': result['confidence'],\n",
        "            'Processing Time (s)': result['processing_time'],\n",
        "            'Reactants': len(data.get('reactants', [])),\n",
        "            'Reagents': len(data.get('reagents', [])),\n",
        "            'Solvents': len(data.get('solvents', [])),\n",
        "            'Products': len(data.get('products', [])),\n",
        "            'Conditions': len([v for v in data.get('conditions', {}).values() if v]),\n",
        "            'Workup Steps': len(data.get('workup', []))\n",
        "        })\n",
        "    \n",
        "    # Create DataFrame\n",
        "    df = pd.DataFrame(summary_data)\n",
        "    \n",
        "    # Display summary table\n",
        "    print(\"📊 BATCH ANALYSIS SUMMARY\")\n",
        "    print(\"=\"*80)\n",
        "    display(df.round(3))\n",
        "    \n",
        "    # Calculate overall statistics\n",
        "    print(\"\\n📈 OVERALL STATISTICS\")\n",
        "    print(\"=\"*40)\n",
        "    print(f\"Average Confidence: {df['Confidence'].mean():.1%} ± {df['Confidence'].std():.1%}\")\n",
        "    print(f\"Average Processing Time: {df['Processing Time (s)'].mean():.1f}s ± {df['Processing Time (s)'].std():.1f}s\")\n",
        "    print(f\"Total Entities Extracted: {df[['Reactants', 'Reagents', 'Solvents', 'Products']].sum().sum()}\")\n",
        "    print(f\"Average Entities per Procedure: {df[['Reactants', 'Reagents', 'Solvents', 'Products']].sum(axis=1).mean():.1f}\")\n",
        "    \n",
        "    return df\n",
        "\n",
        "# Analyze batch results\n",
        "summary_df = analyze_batch_results(batch_results)"
      ],
      "metadata": {
        "id": "analyze_batch"
      },
      "execution_count": null,
      "outputs": []
    },
    {
      "cell_type": "code",
      "source": [
        "# Create comprehensive visualizations\n",
        "fig, axes = plt.subplots(2, 2, figsize=(16, 12))\n",
        "fig.suptitle('RxNExtract Batch Analysis Results', fontsize=16, fontweight='bold')\n",
        "\n",
        "# 1. Confidence scores by procedure type\n",
        "sns.boxplot(data=summary_df, x='Type', y='Confidence', ax=axes[0,0])\n",
        "axes[0,0].set_title('Confidence Scores by Procedure Type')\n",
        "axes[0,0].tick_params(axis='x', rotation=45)\n",
        "axes[0,0].set_ylabel('Confidence Score')\n",
        "\n",
        "# 2. Entity extraction counts\n",
        "entity_cols = ['Reactants', 'Reagents', 'Solvents', 'Products']\n",
        "entity_totals = summary_df[entity_cols].sum()\n",
        "colors = sns.color_palette(\"husl\", len(entity_cols))\n",
        "axes[0,1].bar(entity_totals.index, entity_totals.values, color=colors)\n",
        "axes[0,1].set_title('Total Entities Extracted')\n",
        "axes[0,1].set_ylabel('Count')\n",
        "for i, v in enumerate(entity_totals.values):\n",
        "    axes[0,1].text(i, v, str(v), ha='center', va='bottom', fontweight='bold')\n",
        "\n",
        "# 3. Processing time vs confidence\n",
        "scatter = axes[1,0].scatter(summary_df['Processing Time (s)'], summary_df['Confidence'], \n",
        "                          c=summary_df.index, cmap='viridis', s=100, alpha=0.7)\n",
        "axes[1,0].set_xlabel('Processing Time (seconds)')\n",
        "axes[1,0].set_ylabel('Confidence Score')\n",
        "axes[1,0].set_title('Processing Time vs Confidence')\n",
        "\n",
        "# Add procedure labels\n",
        "for i, row in summary_df.iterrows():\n",
        "    axes[1,0].annotate(row['ID'], \n",
        "                      (row['Processing Time (s)'], row['Confidence']),\n",
        "                      xytext=(5, 5), textcoords='offset points', \n",
        "                      fontsize=8, alpha=0.8)\n",
        "\n",
        "# 4. Entity distribution heatmap\n",
        "heatmap_data = summary_df.set_index('ID')[entity_cols]\n",
        "sns.heatmap(heatmap_data, annot=True, fmt='d', cmap='YlOrRd', ax=axes[1,1])\n",
        "axes[1,1].set_title('Entity Distribution Heatmap')\n",
        "axes[1,1].set_ylabel('Procedure ID')\n",
        "\n",
        "plt.tight_layout()\n",
        "plt.show()"
      ],
      "metadata": {
        "id": "create_batch_visualization"
      },
      "execution_count": null,
      "outputs": []
    },
    {
      "cell_type": "markdown",
      "source": [
        "## 📈 Performance Analysis\n",
        "\n",
        "Let's analyze the performance characteristics of RxNExtract."
      ],
      "metadata": {
        "id": "performance_section"
      }
    },
    {
      "cell_type": "code",
      "source": [
        "# Performance analysis\n",
        "def analyze_performance(batch_results):\n",
        "    \"\"\"Analyze performance characteristics\"\"\"\n",
        "    \n",
        "    print(\"🚀 PERFORMANCE ANALYSIS\")\n",
        "    print(\"=\"*50)\n",
        "    \n",
        "    # Confidence analysis\n",
        "    confidences = [r['confidence'] for r in batch_results]\n",
        "    high_conf_threshold = 0.8\n",
        "    medium_conf_threshold = 0.6\n",
        "    \n",
        "    high_conf = sum(1 for c in confidences if c >= high_conf_threshold)\n",
        "    medium_conf = sum(1 for c in confidences if medium_conf_threshold <= c < high_conf_threshold)\n",
        "    low_conf = sum(1 for c in confidences if c < medium_conf_threshold)\n",
        "    \n",
        "    print(f\"📊 CONFIDENCE DISTRIBUTION:\")\n",
        "    print(f\"   High (≥{high_conf_threshold:.0%}): {high_conf}/{len(confidences)} ({high_conf/len(confidences):.1%})\")\n",
        "    print(f\"   Medium ({medium_conf_threshold:.0%}-{high_conf_threshold:.0%}):
